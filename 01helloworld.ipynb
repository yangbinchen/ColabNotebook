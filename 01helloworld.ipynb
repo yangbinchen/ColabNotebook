{
  "nbformat": 4,
  "nbformat_minor": 0,
  "metadata": {
    "colab": {
      "name": "01helloworld.ipynb",
      "provenance": [],
      "collapsed_sections": [],
      "toc_visible": true,
      "include_colab_link": true
    },
    "kernelspec": {
      "name": "python3",
      "display_name": "Python 3"
    },
    "accelerator": "GPU"
  },
  "cells": [
    {
      "cell_type": "markdown",
      "metadata": {
        "id": "view-in-github",
        "colab_type": "text"
      },
      "source": [
        "<a href=\"https://colab.research.google.com/github/yangbinchen/ColabNotebook/blob/master/01helloworld.ipynb\" target=\"_parent\"><img src=\"https://colab.research.google.com/assets/colab-badge.svg\" alt=\"Open In Colab\"/></a>"
      ]
    },
    {
      "cell_type": "markdown",
      "metadata": {
        "id": "UEG5Fof6HYeq",
        "colab_type": "text"
      },
      "source": [
        "#学习机器视觉的练习文档\n",
        "这是参加机器学习培训的练习文档。\n",
        "##测试Colab的使用情况\n",
        "1. 修改菜单中“代码执行程序”->“更改运行时类型”->选择“GPU”，以提高运行速度。\n",
        "2. 测试python的运行情况\n"
      ]
    },
    {
      "cell_type": "code",
      "metadata": {
        "id": "7KZTdXswY0ti",
        "colab_type": "code",
        "outputId": "5ffc652d-e89b-41bf-cd39-6f4484612aa7",
        "colab": {
          "base_uri": "https://localhost:8080/",
          "height": 121
        }
      },
      "source": [
        "from google.colab import drive\n",
        "drive.mount('/content/drive')"
      ],
      "execution_count": 0,
      "outputs": [
        {
          "output_type": "stream",
          "text": [
            "Go to this URL in a browser: https://accounts.google.com/o/oauth2/auth?client_id=947318989803-6bn6qk8qdgf4n4g3pfee6491hc0brc4i.apps.googleusercontent.com&redirect_uri=urn%3aietf%3awg%3aoauth%3a2.0%3aoob&response_type=code&scope=email%20https%3a%2f%2fwww.googleapis.com%2fauth%2fdocs.test%20https%3a%2f%2fwww.googleapis.com%2fauth%2fdrive%20https%3a%2f%2fwww.googleapis.com%2fauth%2fdrive.photos.readonly%20https%3a%2f%2fwww.googleapis.com%2fauth%2fpeopleapi.readonly\n",
            "\n",
            "Enter your authorization code:\n",
            "··········\n",
            "Mounted at /content/drive\n"
          ],
          "name": "stdout"
        }
      ]
    },
    {
      "cell_type": "code",
      "metadata": {
        "id": "dGNqDSfXHiJL",
        "colab_type": "code",
        "outputId": "a839b7f5-1a0b-4ae7-8828-471f93121751",
        "colab": {
          "base_uri": "https://localhost:8080/",
          "height": 79
        }
      },
      "source": [
        "import tensorflow as tf\n",
        "print(1+2)\n"
      ],
      "execution_count": 0,
      "outputs": [
        {
          "output_type": "display_data",
          "data": {
            "text/html": [
              "<p style=\"color: red;\">\n",
              "The default version of TensorFlow in Colab will soon switch to TensorFlow 2.x.<br>\n",
              "We recommend you <a href=\"https://www.tensorflow.org/guide/migrate\" target=\"_blank\">upgrade</a> now \n",
              "or ensure your notebook will continue to use TensorFlow 1.x via the <code>%tensorflow_version 1.x</code> magic:\n",
              "<a href=\"https://colab.research.google.com/notebooks/tensorflow_version.ipynb\" target=\"_blank\">more info</a>.</p>\n"
            ],
            "text/plain": [
              "<IPython.core.display.HTML object>"
            ]
          },
          "metadata": {
            "tags": []
          }
        },
        {
          "output_type": "stream",
          "text": [
            "3\n"
          ],
          "name": "stdout"
        }
      ]
    },
    {
      "cell_type": "markdown",
      "metadata": {
        "id": "xQ_qT1ZuWXbd",
        "colab_type": "text"
      },
      "source": [
        "3. 加载Google云端硬盘\n",
        "\n",
        "  ```\n",
        "  from google.colab import drive\n",
        "  drive.mount('/content/drive')\n",
        "  ```"
      ]
    },
    {
      "cell_type": "code",
      "metadata": {
        "id": "1JfjbsqDInV3",
        "colab_type": "code",
        "outputId": "8c7a5c29-d93f-4167-9ccf-995c1a2dfa30",
        "colab": {
          "base_uri": "https://localhost:8080/",
          "height": 121
        }
      },
      "source": [
        "from google.colab import drive\n",
        "drive.mount('/content/drive')\n"
      ],
      "execution_count": 0,
      "outputs": [
        {
          "output_type": "stream",
          "text": [
            "Go to this URL in a browser: https://accounts.google.com/o/oauth2/auth?client_id=947318989803-6bn6qk8qdgf4n4g3pfee6491hc0brc4i.apps.googleusercontent.com&redirect_uri=urn%3aietf%3awg%3aoauth%3a2.0%3aoob&response_type=code&scope=email%20https%3a%2f%2fwww.googleapis.com%2fauth%2fdocs.test%20https%3a%2f%2fwww.googleapis.com%2fauth%2fdrive%20https%3a%2f%2fwww.googleapis.com%2fauth%2fdrive.photos.readonly%20https%3a%2f%2fwww.googleapis.com%2fauth%2fpeopleapi.readonly\n",
            "\n",
            "Enter your authorization code:\n",
            "··········\n",
            "Mounted at /content/drive\n"
          ],
          "name": "stdout"
        }
      ]
    },
    {
      "cell_type": "markdown",
      "metadata": {
        "id": "UKz83CELXAz-",
        "colab_type": "text"
      },
      "source": [
        "4. Google云端硬盘的操作\n",
        "\n",
        "  在Google云端硬盘中，可以执行各种shell的命令，比如PWD，MKDIR，LS，GIT等。特别需要注意的是，shell命令的执行采用“！+命令”的形式进行。\n",
        "  例如：\n",
        "\n",
        "  ```\n",
        "  # shell\n",
        "  !pwd\n",
        "  ```\n",
        "  **特别需要注意的是**，CD命令是特别的，采用“%+cd”来进行。目录中如果有空格，请用反斜杠\"\\\\\"来进行转义，否则目录找不到。\n"
      ]
    },
    {
      "cell_type": "code",
      "metadata": {
        "id": "vylnarpxJjTW",
        "colab_type": "code",
        "outputId": "08ca152d-25ff-47b4-fb78-2080b4a5dabc",
        "colab": {
          "base_uri": "https://localhost:8080/",
          "height": 84
        }
      },
      "source": [
        "!pwd\n",
        "%cd ./AI/\n",
        "!mkdir yolo\n",
        "%cd ./yolo\n",
        "!mkdir test\n",
        "%cd ./test\n",
        "!ls\n"
      ],
      "execution_count": 0,
      "outputs": [
        {
          "output_type": "stream",
          "text": [
            "/content/drive/My Drive/Colab Notebooks\n",
            "/content/drive/My Drive/Colab Notebooks/AI\n",
            "/content/drive/My Drive/Colab Notebooks/AI/yolo\n",
            "/content/drive/My Drive/Colab Notebooks/AI/yolo/test\n"
          ],
          "name": "stdout"
        }
      ]
    },
    {
      "cell_type": "code",
      "metadata": {
        "id": "b8G0Qj8vNW_e",
        "colab_type": "code",
        "outputId": "98c09be8-38f3-47d0-8f03-49a953e7282d",
        "colab": {
          "base_uri": "https://localhost:8080/",
          "height": 134
        }
      },
      "source": [
        "!pwd\n",
        "!git clone https://github.com/pjreddie/darknet"
      ],
      "execution_count": 0,
      "outputs": [
        {
          "output_type": "stream",
          "text": [
            "/content/drive/My Drive/Colab Notebooks/AI/yolo/test\n",
            "Cloning into 'darknet'...\n",
            "remote: Enumerating objects: 5901, done.\u001b[K\n",
            "remote: Total 5901 (delta 0), reused 0 (delta 0), pack-reused 5901\u001b[K\n",
            "Receiving objects: 100% (5901/5901), 6.16 MiB | 3.21 MiB/s, done.\n",
            "Resolving deltas: 100% (3916/3916), done.\n",
            "Checking out files: 100% (979/979), done.\n"
          ],
          "name": "stdout"
        }
      ]
    },
    {
      "cell_type": "code",
      "metadata": {
        "id": "c1EwtL_PNmHA",
        "colab_type": "code",
        "outputId": "42450671-a820-40d4-ba96-4194bb8a9ec6",
        "colab": {
          "base_uri": "https://localhost:8080/",
          "height": 118
        }
      },
      "source": [
        "!pwd\n",
        "!ls\n",
        "%cd /content/drive/My\\ Drive/Colab\\ Notebooks/AI/yolo/test/darknet\n",
        "!ls\n"
      ],
      "execution_count": 4,
      "outputs": [
        {
          "output_type": "stream",
          "text": [
            "/content/drive/My Drive/Colab Notebooks/AI/yolo\n",
            "test\n",
            "/content/drive/My Drive/Colab Notebooks/AI/yolo/test/darknet\n",
            "cfg\t  include\tLICENSE.gen   LICENSE.mit  python     src\n",
            "data\t  LICENSE\tLICENSE.gpl   LICENSE.v1   README.md\n",
            "examples  LICENSE.fuck\tLICENSE.meta  Makefile\t   scripts\n"
          ],
          "name": "stdout"
        }
      ]
    }
  ]
}